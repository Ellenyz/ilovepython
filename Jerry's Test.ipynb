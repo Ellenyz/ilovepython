{
 "cells": [
  {
   "cell_type": "markdown",
   "metadata": {},
   "source": [
    "# Reward Program\n",
    "### Test from Jerry\n",
    "\n",
    "#### Answer by Ellen Wang, <EllenwAnalyst@outlook.com>"
   ]
  },
  {
   "cell_type": "markdown",
   "metadata": {},
   "source": [
    "### 1) 'What' information would you derive from it, and 'how' will you derive it \n",
    "(you can give SQL queries, pseudo code, ... whatever you're comfortable with)"
   ]
  },
  {
   "cell_type": "markdown",
   "metadata": {},
   "source": [
    "#### Goals and Questions\n",
    "**Goal:**\n",
    "\n",
    "To evaluate if running this program has been a good idea or not\n",
    "\n",
    "**Problems to ask:**\n",
    "\n",
    "* What's the impact of this strategy: How many (new vs. recurring) users have participanted in the reward program, got the 10 dollar discount; how many of these users have redeemed the 10 dollar discount?\n",
    "* Have the number of new customers increased after the reward program begins? How many new users get the 20 dollar discount? (actual impact of this promo event)\n",
    "* Does revenue (sum of total pays) increase after implementing this strategy?\n",
    "\n",
    "**Assumptions:**\n",
    "\n",
    "* Consumers can only use either 10 or 20 dollar at one time.(Only users purchased at least once can get access to the 10 dollar discount)\n",
    "* Users who have purchased and redeemed 20 dollar can not get 20 dollar discount again\n",
    "* Assume the campaign started from March 1st\n",
    "* No obvious business cycle (market for Jan-May is similar to market for Mar-May), if not, comaring with the corresponding period of last year.\n",
    "\n",
    "**Note: Questions to ask internal stakeholders**\n",
    "\n",
    "* Can users redeem these two discounts in the same order?\n"
   ]
  },
  {
   "cell_type": "markdown",
   "metadata": {},
   "source": [
    "#### SQL CODE"
   ]
  },
  {
   "cell_type": "code",
   "execution_count": 17,
   "metadata": {},
   "outputs": [],
   "source": [
    "sql='''\n",
    "--Goal1: To examine the difference between pre- and post- program in terms of\n",
    "--       total number of existing users that participant in the program (redeemed $10 discount)\n",
    "SELECT\n",
    "  COUNT(UNIQUE User.id) AS number_participant_users,\n",
    "  COUNT(UNIQUE Purchase.id) AS number_recurring_orders,\n",
    "  SUM(Purchase.total) AS total_revenue_existing_users,\n",
    "  (CASE WHEN Purchase.date >= '2021-03-01'\n",
    "  AND Purchase.date < '2021-05-01' THEN 'post_reward'\n",
    "  WHEN Purchase.date >= '2021-01-01'\n",
    "  AND Purchase.date < '2021-03-01' THEN 'pre_reward'\n",
    "  ELSE NULL\n",
    "  ) AS reward_program_period,\n",
    "  (CASE WHEN Purchase.user_discounts = 10 THEN 'redemption_10'\n",
    "   WHEN Purchase.user_discounts = 20 THEN 'redemption_20'\n",
    "   WHEN Purchase.user_discounts = 0 THEN 'redemption_0'\n",
    "   ELSE 'Other'\n",
    "   ) AS amount_of_redemption\n",
    "FROM\n",
    "  User\n",
    "  RIGHT OUTER JOIN Purchase ON User.id = Purchase.user_id\n",
    "WHERE\n",
    "  Purchase.total IS NOT NULL\n",
    "GROUP BY\n",
    "  reward_program_period\n",
    "HAVING\n",
    "  amount_of_redemption = 'redemption_10' \n",
    "\n",
    "\n",
    "\n",
    "--Goal2: To examine the difference between pre- and post- program in terms of\n",
    "--      total number of new users and revenue from referral (redeemed $20 discount).\n",
    "SELECT\n",
    "  COUNT(UNIQUE User.id) AS number_new_users,\n",
    "  COUNT(UNIQUE Purchase.id) AS number_new_orders,\n",
    "  SUM(Purchase.total) AS total_revenue_new_users,\n",
    "  (CASE WHEN Purchase.date >= '2021-03-01'\n",
    "  AND Purchase.date < '2021-05-01' THEN 'post_reward'\n",
    "  WHEN Purchase.date >= '2021-01-01'\n",
    "  AND Purchase.date < '2021-03-01' THEN 'pre_reward'\n",
    "  ELSE NULL\n",
    "  ) AS reward_program_period,\n",
    "  (CASE WHEN Purchase.user_discounts = 10 THEN 'redemption_10'\n",
    "    WHEN Purchase.user_discounts = 20 THEN 'redemption_20'\n",
    "    WHEN Purchase.user_discounts = 0 THEN 'redemption_0'\n",
    "    ELSE 'Other'\n",
    "  ) AS amount_of_redemption\n",
    "FROM\n",
    "  User\n",
    "RIGHT OUTER JOIN \n",
    "  Purchase \n",
    "ON \n",
    "  User.id = Purchase.user_id\n",
    "WHERE\n",
    "  User.referring_user_id IS NOT NULL\n",
    "GROUP BY\n",
    "  reward_program_period\n",
    "HAVING\n",
    "  amount_of_redemption = 'redemption_10' \n",
    "  \n",
    "  \n",
    "  \n",
    "--Goal3: To examine the difference between pre- and post- program in terms of\n",
    "--      total revenue and total sales\n",
    "SELECT\n",
    "  COUNT(UNIQUE User.id) AS number_users,\n",
    "  COUNT(UNIQUE Purchase.id) AS number_new_orders,\n",
    "  SUM(Purchase.total) AS total_revenue_new_users,\n",
    "  (CASE WHEN Purchase.date >= '2021-03-01'\n",
    "  AND Purchase.date < '2021-05-01' THEN 'post_reward'\n",
    "  WHEN Purchase.date >= '2021-01-01'\n",
    "  AND Purchase.date < '2021-03-01' THEN 'pre_reward'\n",
    "  ELSE NULL\n",
    "  ) AS reward_program_period\n",
    "FROM\n",
    "  User\n",
    "RIGHT OUTER JOIN \n",
    "  Purchase \n",
    "ON \n",
    "  User.id = Purchase.user_id\n",
    "GROUP BY\n",
    "  reward_program_period\n",
    "'''"
   ]
  },
  {
   "cell_type": "markdown",
   "metadata": {},
   "source": [
    "### 2) Using the information from Step 1), how would you make a recommendation on whether this rewards program should be continued or discontinued"
   ]
  },
  {
   "cell_type": "markdown",
   "metadata": {},
   "source": [
    "**From the result from step 1), we will get:**\n",
    "* Total number of users that redeemed \\$10\n",
    "* Total number of users that redeemed \\$20\n",
    "* Total number of orders with a redemption of \\$10\n",
    "* Total number of orders with a redemption of \\$20\n",
    "* Total revenue obtained in the 2 month prior to the program\n",
    "* Total revenue obtained in the 2 month after program begins\n",
    "\n",
    "**Insights:**\n",
    "1. If *the total number of users that redeemed \\$10* takes a vast majority (say 90\\%+) of the existing users who order during the reward program period, then the participation of this campain can be gauranteed.\n",
    "2. The proportion of *total number of users that redeemed \\$20* divided by *total number of users that redeemed \\$10* can evaluate the exact impact of referral message (e.g. conversion rate). A higher rate indicates larger impact, and will make analyst more willing to make a recommendation.\n",
    "3. Since one unique user can order more than once and be qualified for \\$10 discount more than once. The proportion of *total number of orders with a redemption of \\$20* divided by *total number of orders with a redemption of \\$10* can be treated as a validation and addition to the previous point.\n",
    "4. Comparing data of the 2 month after the reward program begins with the data of 2 month prior to the campaign, if the total revenue increases significantly, we may conclude that this campain is effective in driving higher revenue; if the total number of orders increases significantly, we may conclude that this program works well in driving new orders. \n",
    "5. All above metrics should be considered combiningly while determining whether to make a recommendation or not.\n",
    "6. All above steps should be taken again when we change control group from 01/01/2021-03/01/2021 to 03/01/2020-05/01/2020 as a validation.\n",
    "\n"
   ]
  },
  {
   "cell_type": "markdown",
   "metadata": {},
   "source": [
    "### Coding Question\n",
    "Goal: looking for a program that manages disjointed intervals of integers."
   ]
  },
  {
   "cell_type": "code",
   "execution_count": 9,
   "metadata": {},
   "outputs": [],
   "source": [
    "# First define the `add` function\n",
    "intervals = []\n",
    "def add(_from, to):\n",
    "    '''\n",
    "    This function is for managing disjointed intervals of integers-add an inverval\n",
    "    '''\n",
    "    newInterval=[_from, to]\n",
    "    intervals.append(newInterval) # incorporate all intervals\n",
    "    intervals.sort()\n",
    "    res=[]\n",
    "    res.append(intervals[0]) # assign the smallest interval to the output\n",
    "    for i in intervals[1:]:\n",
    "        if i[0]<=res[-1][1]:  # if two interval overlaps, merge\n",
    "            res[-1][1]=max(res[-1][1],i[1])\n",
    "        else:\n",
    "            res.append(i)               \n",
    "    return res"
   ]
  },
  {
   "cell_type": "code",
   "execution_count": 10,
   "metadata": {},
   "outputs": [
    {
     "data": {
      "text/plain": [
       "[[1, 2], [3, 5], [6, 8]]"
      ]
     },
     "execution_count": 10,
     "metadata": {},
     "output_type": "execute_result"
    }
   ],
   "source": [
    "# Run a small test:\n",
    "intervals=[[1, 2], [3, 5]]\n",
    "add(6,8)"
   ]
  },
  {
   "cell_type": "code",
   "execution_count": 12,
   "metadata": {},
   "outputs": [],
   "source": [
    "# Then define a function to identify all overlaping cases\n",
    "def cut(a1,a2,b1,b2):\n",
    "    '''\n",
    "    First define rules\n",
    "    '''\n",
    "    if a1 <= b1 and a2 < b2:  # left side remains after removal\n",
    "        return [[a1, b1],]\n",
    "    if b1 <= a1 and b2 < a2:  # right side remains after removal\n",
    "        return [[b2, a2],]\n",
    "    if a1 <= b1 and b2 < a2:  # mid side removed\n",
    "         return [[a1, b1], [b2, a2]]\n",
    "    return list()\n",
    "\n",
    "# Define the removal function  \n",
    "def remove(_from,to):\n",
    "    result = []\n",
    "    for i in intervals:\n",
    "        lo, hi = i\n",
    "        if lo <= to and _from <= hi:\n",
    "            result.extend(cut(lo, hi, _from, to)) # call the `cut` function above\n",
    "        else:\n",
    "            result.append(i)\n",
    "    return result"
   ]
  },
  {
   "cell_type": "code",
   "execution_count": 13,
   "metadata": {},
   "outputs": [
    {
     "data": {
      "text/plain": [
       "[[1, 2], [3, 4], [7, 8]]"
      ]
     },
     "execution_count": 13,
     "metadata": {},
     "output_type": "execute_result"
    }
   ],
   "source": [
    "# Test on the `remove` function\n",
    "intervals = [[1, 2], [3, 5], [6, 8]]\n",
    "remove(4,7)"
   ]
  },
  {
   "cell_type": "markdown",
   "metadata": {},
   "source": [
    "#### Full Test"
   ]
  },
  {
   "cell_type": "code",
   "execution_count": 14,
   "metadata": {},
   "outputs": [
    {
     "data": {
      "text/plain": [
       "[[1, 8]]"
      ]
     },
     "execution_count": 14,
     "metadata": {},
     "output_type": "execute_result"
    }
   ],
   "source": [
    "# True Answer:\n",
    "# Start = []\n",
    "# add(1, 5) => [[1, 5]]\n",
    "# remove(2, 3) => [[1, 2], [3, 5]]\n",
    "# add(6, 8) => [[1, 2], [3, 5], [6, 8]]\n",
    "# remove(4, 7) => [[1, 2], [3, 4], [7, 8]]\n",
    "# add(2, 7) => [[1, 8]]\n",
    "\n",
    "# Test Result:\n",
    "intervals = []\n",
    "intervals = add(1, 5)\n",
    "intervals = remove(2, 3)\n",
    "intervals = add(6, 8)\n",
    "intervals = remove(4, 7)\n",
    "intervals = add(2, 7)\n",
    "intervals"
   ]
  }
 ],
 "metadata": {
  "kernelspec": {
   "display_name": "Python 3",
   "language": "python",
   "name": "python3"
  },
  "language_info": {
   "codemirror_mode": {
    "name": "ipython",
    "version": 3
   },
   "file_extension": ".py",
   "mimetype": "text/x-python",
   "name": "python",
   "nbconvert_exporter": "python",
   "pygments_lexer": "ipython3",
   "version": "3.8.3"
  }
 },
 "nbformat": 4,
 "nbformat_minor": 4
}
